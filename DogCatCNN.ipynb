{
 "cells": [
  {
   "cell_type": "code",
   "execution_count": null,
   "metadata": {},
   "outputs": [],
   "source": [
    "import glob\n",
    "import pandas as pd\n",
    "df = pd.DataFrame(columns=[\"path\", \"target\"])\n",
    "fn = glob.glob(\"train/cat.*.jpg\")\n",
    "for f in fn:\n",
    "    s = pd.Series([f, 0], index=[\"path\", \"target\"])\n",
    "    df = df.append(s, ignore_index=True)\n",
    "fn = glob.glob(\"train/dog.*.jpg\")\n",
    "for f in fn:\n",
    "    s = pd.Series([f, 1], index=[\"path\", \"target\"])\n",
    "    df = df.append(s, ignore_index=True)\n",
    "df"
   ]
  },
  {
   "cell_type": "code",
   "execution_count": null,
   "metadata": {},
   "outputs": [],
   "source": []
  }
 ],
 "metadata": {
  "kernelspec": {
   "display_name": "Python 3",
   "language": "python",
   "name": "python3"
  },
  "language_info": {
   "codemirror_mode": {
    "name": "ipython",
    "version": 3
   },
   "file_extension": ".py",
   "mimetype": "text/x-python",
   "name": "python",
   "nbconvert_exporter": "python",
   "pygments_lexer": "ipython3",
   "version": "3.6.0"
  }
 },
 "nbformat": 4,
 "nbformat_minor": 2
}
